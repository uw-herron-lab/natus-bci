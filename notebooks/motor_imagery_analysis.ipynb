{
 "cells": [
  {
   "cell_type": "markdown",
   "metadata": {},
   "source": [
    "# Motor Imagery Classification via Natus"
   ]
  },
  {
   "cell_type": "code",
   "execution_count": 1,
   "metadata": {},
   "outputs": [],
   "source": [
    "import numpy as np\n",
    "import matplotlib.pyplot as plt\n",
    "from scipy import signal\n",
    "import pywt\n",
    "import pandas as pd\n",
    "import pickle\n",
    "from scipy.linalg import eigh"
   ]
  },
  {
   "cell_type": "code",
   "execution_count": 2,
   "metadata": {},
   "outputs": [],
   "source": [
    "timestamp = \"20240731_21_1756\"\n",
    "csv_file_path = f\"../clients/logs/motor_imagery/data_{timestamp}.csv\"\n",
    "\n",
    "df = pd.read_csv(csv_file_path)"
   ]
  },
  {
   "cell_type": "code",
   "execution_count": 3,
   "metadata": {},
   "outputs": [],
   "source": [
    "df = df.dropna(subset=[\"stim\"])"
   ]
  },
  {
   "cell_type": "code",
   "execution_count": 4,
   "metadata": {},
   "outputs": [],
   "source": [
    "stimuli = df[\"stim\"].to_numpy()\n",
    "\n",
    "eeg_data = np.array([df[key].to_numpy() for key in df.keys() if \"C\" in key])\n",
    "# eeg_data = df.iloc[:, 2:].to_numpy()"
   ]
  },
  {
   "cell_type": "code",
   "execution_count": 5,
   "metadata": {},
   "outputs": [
    {
     "data": {
      "text/plain": [
       "(148, 74600)"
      ]
     },
     "execution_count": 5,
     "metadata": {},
     "output_type": "execute_result"
    }
   ],
   "source": [
    "eeg_data.shape\n",
    "# eeg_data = eeg_data.T"
   ]
  },
  {
   "cell_type": "markdown",
   "metadata": {},
   "source": [
    "## Epoch the Data"
   ]
  },
  {
   "cell_type": "code",
   "execution_count": 6,
   "metadata": {},
   "outputs": [],
   "source": [
    "# Segments data into trials (fixation + left/right hand stimulus) and returns the indices of each trial\n",
    "\n",
    "trial_idxs = []\n",
    "trial = []\n",
    "new_trial = True\n",
    "\n",
    "for i, stim in enumerate(stimuli):\n",
    "    if stim is None:\n",
    "        continue\n",
    "\n",
    "    if new_trial:\n",
    "        if stim == \"fixation\":\n",
    "            trial.append(i)\n",
    "        else:\n",
    "            new_trial = False\n",
    "\n",
    "    if not new_trial:\n",
    "        if stim == \"Right Hand\" or stim == \"Left Hand\":\n",
    "            trial.append(i)\n",
    "        elif stim == \"fixation\":\n",
    "            new_trial = True\n",
    "            trial_idxs.append(trial)\n",
    "            trial = []\n",
    "            trial.append(i)\n",
    "        else:\n",
    "            raise ValueError(f\"Unknown stimuli: {stim}\")\n",
    "        \n",
    "trial_idxs.append(trial)"
   ]
  },
  {
   "cell_type": "code",
   "execution_count": 7,
   "metadata": {},
   "outputs": [],
   "source": [
    "# Segment EEG data into trials\n",
    "X = []\n",
    "y = []\n",
    "\n",
    "for idx in trial_idxs:\n",
    "    X.append(eeg_data[:, idx])\n",
    "    y.append(stimuli[idx[-1]])\n",
    "\n",
    "y = [0 if stim == \"Right Hand\" else 1 for stim in y]\n",
    "y = np.array(y)"
   ]
  },
  {
   "cell_type": "code",
   "execution_count": 8,
   "metadata": {},
   "outputs": [],
   "source": [
    "# Truncate data to 9500 samples\n",
    "\n",
    "for i in range(len(X)):\n",
    "    X[i] = X[i][:-1, :2000]\n",
    "\n",
    "X = np.array(X)"
   ]
  },
  {
   "cell_type": "markdown",
   "metadata": {},
   "source": [
    "## Create Pipeline"
   ]
  },
  {
   "cell_type": "markdown",
   "metadata": {},
   "source": [
    "### Common Spatial Pattern"
   ]
  },
  {
   "cell_type": "code",
   "execution_count": 9,
   "metadata": {},
   "outputs": [
    {
     "data": {
      "text/plain": [
       "(17, 147, 2000)"
      ]
     },
     "execution_count": 9,
     "metadata": {},
     "output_type": "execute_result"
    }
   ],
   "source": [
    "X[np.where(y==1)[0]].shape"
   ]
  },
  {
   "cell_type": "code",
   "execution_count": 10,
   "metadata": {},
   "outputs": [
    {
     "ename": "LinAlgError",
     "evalue": "The leading minor of order 145 of B is not positive definite. The factorization of B could not be completed and no eigenvalues or eigenvectors were computed.",
     "output_type": "error",
     "traceback": [
      "\u001b[1;31m---------------------------------------------------------------------------\u001b[0m",
      "\u001b[1;31mLinAlgError\u001b[0m                               Traceback (most recent call last)",
      "Cell \u001b[1;32mIn[10], line 5\u001b[0m\n\u001b[0;32m      1\u001b[0m \u001b[38;5;28;01mfrom\u001b[39;00m \u001b[38;5;21;01mcommon_spatial_pattern\u001b[39;00m \u001b[38;5;28;01mimport\u001b[39;00m csp\n\u001b[0;32m      3\u001b[0m n_components \u001b[38;5;241m=\u001b[39m \u001b[38;5;241m8\u001b[39m\n\u001b[1;32m----> 5\u001b[0m filters \u001b[38;5;241m=\u001b[39m \u001b[43mcsp\u001b[49m\u001b[43m(\u001b[49m\u001b[43mnp\u001b[49m\u001b[38;5;241;43m.\u001b[39;49m\u001b[43mabs\u001b[49m\u001b[43m(\u001b[49m\u001b[43mX\u001b[49m\u001b[43m[\u001b[49m\u001b[43mnp\u001b[49m\u001b[38;5;241;43m.\u001b[39;49m\u001b[43mwhere\u001b[49m\u001b[43m(\u001b[49m\u001b[43my\u001b[49m\u001b[38;5;241;43m==\u001b[39;49m\u001b[38;5;241;43m0\u001b[39;49m\u001b[43m)\u001b[49m\u001b[43m[\u001b[49m\u001b[38;5;241;43m0\u001b[39;49m\u001b[43m]\u001b[49m\u001b[43m]\u001b[49m\u001b[43m)\u001b[49m\u001b[43m,\u001b[49m\u001b[43m \u001b[49m\u001b[43mnp\u001b[49m\u001b[38;5;241;43m.\u001b[39;49m\u001b[43mabs\u001b[49m\u001b[43m(\u001b[49m\u001b[43mX\u001b[49m\u001b[43m[\u001b[49m\u001b[43mnp\u001b[49m\u001b[38;5;241;43m.\u001b[39;49m\u001b[43mwhere\u001b[49m\u001b[43m(\u001b[49m\u001b[43my\u001b[49m\u001b[38;5;241;43m==\u001b[39;49m\u001b[38;5;241;43m1\u001b[39;49m\u001b[43m)\u001b[49m\u001b[43m[\u001b[49m\u001b[38;5;241;43m0\u001b[39;49m\u001b[43m]\u001b[49m\u001b[43m]\u001b[49m\u001b[43m)\u001b[49m\u001b[43m)\u001b[49m\n\u001b[0;32m      6\u001b[0m filters \u001b[38;5;241m=\u001b[39m np\u001b[38;5;241m.\u001b[39mvstack([filters[:\u001b[38;5;28mint\u001b[39m(n_components\u001b[38;5;241m/\u001b[39m\u001b[38;5;241m2\u001b[39m)], filters[\u001b[38;5;241m-\u001b[39m\u001b[38;5;28mint\u001b[39m(n_components\u001b[38;5;241m/\u001b[39m\u001b[38;5;241m2\u001b[39m):]])\n\u001b[0;32m      8\u001b[0m np\u001b[38;5;241m.\u001b[39msave(file\u001b[38;5;241m=\u001b[39m\u001b[38;5;124m\"\u001b[39m\u001b[38;5;124mmodels/csp_filters.npy\u001b[39m\u001b[38;5;124m\"\u001b[39m, arr\u001b[38;5;241m=\u001b[39mfilters)\n",
      "File \u001b[1;32mc:\\Users\\danie\\OneDrive\\Documents\\GitHub\\natus-bci\\notebooks\\common_spatial_pattern.py:37\u001b[0m, in \u001b[0;36mcsp\u001b[1;34m(X1, X2)\u001b[0m\n\u001b[0;32m     34\u001b[0m cov_total \u001b[38;5;241m=\u001b[39m cov1 \u001b[38;5;241m+\u001b[39m cov2\n\u001b[0;32m     36\u001b[0m \u001b[38;5;66;03m# Solve the generalized eigenvalue problem\u001b[39;00m\n\u001b[1;32m---> 37\u001b[0m eigenvalues, eigenvectors \u001b[38;5;241m=\u001b[39m \u001b[43meigh\u001b[49m\u001b[43m(\u001b[49m\u001b[43mcov1\u001b[49m\u001b[43m,\u001b[49m\u001b[43m \u001b[49m\u001b[43mcov_total\u001b[49m\u001b[43m)\u001b[49m\n\u001b[0;32m     39\u001b[0m \u001b[38;5;66;03m# Sort eigenvalues and corresponding eigenvectors in descending order\u001b[39;00m\n\u001b[0;32m     40\u001b[0m sorted_indices \u001b[38;5;241m=\u001b[39m np\u001b[38;5;241m.\u001b[39margsort(eigenvalues)[::\u001b[38;5;241m-\u001b[39m\u001b[38;5;241m1\u001b[39m]\n",
      "File \u001b[1;32mc:\\Users\\danie\\miniconda3\\envs\\zeromq\\lib\\site-packages\\scipy\\linalg\\_decomp.py:594\u001b[0m, in \u001b[0;36meigh\u001b[1;34m(a, b, lower, eigvals_only, overwrite_a, overwrite_b, turbo, eigvals, type, check_finite, subset_by_index, subset_by_value, driver)\u001b[0m\n\u001b[0;32m    591\u001b[0m     \u001b[38;5;28;01mraise\u001b[39;00m LinAlgError(\u001b[38;5;124m'\u001b[39m\u001b[38;5;124mIllegal value in argument \u001b[39m\u001b[38;5;132;01m{}\u001b[39;00m\u001b[38;5;124m of internal \u001b[39m\u001b[38;5;132;01m{}\u001b[39;00m\u001b[38;5;124m'\u001b[39m\n\u001b[0;32m    592\u001b[0m                       \u001b[38;5;124m'\u001b[39m\u001b[38;5;124m'\u001b[39m\u001b[38;5;241m.\u001b[39mformat(\u001b[38;5;241m-\u001b[39minfo, drv\u001b[38;5;241m.\u001b[39mtypecode \u001b[38;5;241m+\u001b[39m pfx \u001b[38;5;241m+\u001b[39m driver))\n\u001b[0;32m    593\u001b[0m \u001b[38;5;28;01melif\u001b[39;00m info \u001b[38;5;241m>\u001b[39m n:\n\u001b[1;32m--> 594\u001b[0m     \u001b[38;5;28;01mraise\u001b[39;00m LinAlgError(\u001b[38;5;124m'\u001b[39m\u001b[38;5;124mThe leading minor of order \u001b[39m\u001b[38;5;132;01m{}\u001b[39;00m\u001b[38;5;124m of B is not \u001b[39m\u001b[38;5;124m'\u001b[39m\n\u001b[0;32m    595\u001b[0m                       \u001b[38;5;124m'\u001b[39m\u001b[38;5;124mpositive definite. The factorization of B \u001b[39m\u001b[38;5;124m'\u001b[39m\n\u001b[0;32m    596\u001b[0m                       \u001b[38;5;124m'\u001b[39m\u001b[38;5;124mcould not be completed and no eigenvalues \u001b[39m\u001b[38;5;124m'\u001b[39m\n\u001b[0;32m    597\u001b[0m                       \u001b[38;5;124m'\u001b[39m\u001b[38;5;124mor eigenvectors were computed.\u001b[39m\u001b[38;5;124m'\u001b[39m\u001b[38;5;241m.\u001b[39mformat(info\u001b[38;5;241m-\u001b[39mn))\n\u001b[0;32m    598\u001b[0m \u001b[38;5;28;01melse\u001b[39;00m:\n\u001b[0;32m    599\u001b[0m     drv_err \u001b[38;5;241m=\u001b[39m {\u001b[38;5;124m'\u001b[39m\u001b[38;5;124mev\u001b[39m\u001b[38;5;124m'\u001b[39m: \u001b[38;5;124m'\u001b[39m\u001b[38;5;124mThe algorithm failed to converge; \u001b[39m\u001b[38;5;132;01m{}\u001b[39;00m\u001b[38;5;124m \u001b[39m\u001b[38;5;124m'\u001b[39m\n\u001b[0;32m    600\u001b[0m                      \u001b[38;5;124m'\u001b[39m\u001b[38;5;124moff-diagonal elements of an intermediate \u001b[39m\u001b[38;5;124m'\u001b[39m\n\u001b[0;32m    601\u001b[0m                      \u001b[38;5;124m'\u001b[39m\u001b[38;5;124mtridiagonal form did not converge to zero.\u001b[39m\u001b[38;5;124m'\u001b[39m,\n\u001b[1;32m   (...)\u001b[0m\n\u001b[0;32m    606\u001b[0m                \u001b[38;5;124m'\u001b[39m\u001b[38;5;124mevr\u001b[39m\u001b[38;5;124m'\u001b[39m: \u001b[38;5;124m'\u001b[39m\u001b[38;5;124mInternal Error.\u001b[39m\u001b[38;5;124m'\u001b[39m\n\u001b[0;32m    607\u001b[0m                }\n",
      "\u001b[1;31mLinAlgError\u001b[0m: The leading minor of order 145 of B is not positive definite. The factorization of B could not be completed and no eigenvalues or eigenvectors were computed."
     ]
    }
   ],
   "source": [
    "from common_spatial_pattern import csp\n",
    "\n",
    "n_components = 8\n",
    "\n",
    "filters = csp(np.abs(X[np.where(y==0)[0]]), np.abs(X[np.where(y==1)[0]]))\n",
    "filters = np.vstack([filters[:int(n_components/2)], filters[-int(n_components/2):]])\n",
    "\n",
    "np.save(file=\"models/csp_filters.npy\", arr=filters)"
   ]
  },
  {
   "cell_type": "markdown",
   "metadata": {},
   "source": [
    "### Training LDA Model"
   ]
  },
  {
   "cell_type": "code",
   "execution_count": null,
   "metadata": {},
   "outputs": [],
   "source": [
    "from sklearn.model_selection import cross_val_score, train_test_split\n",
    "from sklearn.discriminant_analysis import LinearDiscriminantAnalysis as LDA\n",
    "\n",
    "X_train, X_test, y_train, y_test = train_test_split(X, y, test_size=0.2)\n",
    "clf = LDA()"
   ]
  },
  {
   "cell_type": "code",
   "execution_count": null,
   "metadata": {},
   "outputs": [],
   "source": [
    "def extract_features(data, filters):\n",
    "    filtered_data = np.dot(filters, data)\n",
    "    return np.log(np.var(filtered_data, axis=2))"
   ]
  },
  {
   "cell_type": "code",
   "execution_count": null,
   "metadata": {},
   "outputs": [],
   "source": [
    "extracted_features_train = extract_features(X_train, filters)\n",
    "clf.fit(extracted_features_train.T, y_train)"
   ]
  },
  {
   "cell_type": "code",
   "execution_count": null,
   "metadata": {},
   "outputs": [],
   "source": [
    "extracted_features_test = extract_features(X_test, filters)\n",
    "clf.score(extracted_features_test.T, y_test)"
   ]
  },
  {
   "cell_type": "code",
   "execution_count": null,
   "metadata": {},
   "outputs": [],
   "source": [
    "pipeline = {}\n",
    "pipeline[\"CSP+LDA\"] = make_pipeline(CSP(n_components=8), LDA())\n",
    "\n",
    "pipeline[\"CSP+LDA\"].fit(X_train, y_train)\n",
    "pipeline[\"CSP+LDA\"].score(X_test, y_test)\n",
    "\n",
    "# scores = cross_val_score(pipeline[\"CSP+LDA\"], X, y, cv=5)\n",
    "# scores"
   ]
  },
  {
   "cell_type": "markdown",
   "metadata": {},
   "source": [
    "### Save ML Model"
   ]
  },
  {
   "cell_type": "code",
   "execution_count": null,
   "metadata": {},
   "outputs": [],
   "source": [
    "# Define the filename\n",
    "model_filename = 'models/MI_model.pkl'\n",
    "\n",
    "# Save the model\n",
    "with open(model_filename, 'wb') as file:\n",
    "    pickle.dump(clf, file)"
   ]
  },
  {
   "cell_type": "markdown",
   "metadata": {},
   "source": [
    "### Compute Frequency Bands"
   ]
  },
  {
   "cell_type": "code",
   "execution_count": null,
   "metadata": {},
   "outputs": [],
   "source": [
    "def wavelet_transform(eeg_signal, fs):\n",
    "    # Define wavelet parameters\n",
    "    wavelet = 'cmor1.5-1.0'  # Complex Morlet wavelet\n",
    "    scales = np.arange(1, 128)\n",
    "    \n",
    "    # Perform Continuous Wavelet Transform (CWT)\n",
    "    coefficients, frequencies = pywt.cwt(eeg_signal, scales, wavelet, sampling_period=1/fs)\n",
    "    \n",
    "    return coefficients, frequencies"
   ]
  },
  {
   "cell_type": "code",
   "execution_count": null,
   "metadata": {},
   "outputs": [],
   "source": [
    "def compute_freq_band_power(X, sfreq):\n",
    "\n",
    "    bands = {\n",
    "        'Delta': (0.5, 4),\n",
    "        'Theta': (4, 8),\n",
    "        'Alpha': (8, 13),\n",
    "        'Beta': (13, 30),\n",
    "        'Gamma': (30, 70),\n",
    "        'High Gamma': (70, 150)\n",
    "    }\n",
    "    \n",
    "    band_power = {freq_band: [] for freq_band in bands.keys()}\n",
    "\n",
    "    for band, (low_freq, high_freq) in bands.items():\n",
    "        for trial_data in X:\n",
    "            coefficients, freqs = wavelet_transform(trial_data, sfreq)\n",
    "\n",
    "            # Find the indices of frequencies within the band\n",
    "            idx_band = np.logical_and(freqs >= low_freq, freqs <= high_freq)\n",
    "            band_power[band].append(coefficients[idx_band, :, :].mean(axis=0))\n",
    "\n",
    "    return band_power"
   ]
  },
  {
   "cell_type": "markdown",
   "metadata": {},
   "source": [
    "# Motor Imagery Dataset"
   ]
  },
  {
   "cell_type": "code",
   "execution_count": null,
   "metadata": {},
   "outputs": [],
   "source": [
    "import warnings\n",
    "\n",
    "from mne.decoding import CSP\n",
    "from sklearn.discriminant_analysis import LinearDiscriminantAnalysis as LDA\n",
    "from sklearn.pipeline import make_pipeline\n",
    "\n",
    "import moabb\n",
    "\n",
    "\n",
    "moabb.set_log_level(\"info\")\n",
    "warnings.filterwarnings(\"ignore\")"
   ]
  },
  {
   "cell_type": "markdown",
   "metadata": {},
   "source": [
    "## Instantiate Dataset"
   ]
  },
  {
   "cell_type": "code",
   "execution_count": null,
   "metadata": {},
   "outputs": [],
   "source": [
    "from moabb.datasets import BNCI2014_001, BNCI2015_001\n",
    "\n",
    "dataset = BNCI2015_001()\n",
    "dataset.subject_list = [1, 2, 3]"
   ]
  },
  {
   "cell_type": "markdown",
   "metadata": {},
   "source": [
    "### Access EEG Recordings"
   ]
  },
  {
   "cell_type": "code",
   "execution_count": null,
   "metadata": {},
   "outputs": [],
   "source": [
    "sessions = dataset.get_data(subjects=[1])"
   ]
  },
  {
   "cell_type": "code",
   "execution_count": null,
   "metadata": {},
   "outputs": [],
   "source": [
    "subject = 1\n",
    "session_name = \"0train\"\n",
    "run_name = \"0\"\n",
    "\n",
    "sessions[subject]['0A']"
   ]
  },
  {
   "cell_type": "markdown",
   "metadata": {},
   "source": [
    "### Set Up Paradigm"
   ]
  },
  {
   "cell_type": "code",
   "execution_count": null,
   "metadata": {},
   "outputs": [],
   "source": [
    "dataset.paradigm"
   ]
  },
  {
   "cell_type": "code",
   "execution_count": null,
   "metadata": {},
   "outputs": [],
   "source": [
    "from moabb.paradigms import MotorImagery, LeftRightImagery \n",
    "\n",
    "paradigm = MotorImagery()"
   ]
  },
  {
   "cell_type": "markdown",
   "metadata": {},
   "source": [
    "### Get data"
   ]
  },
  {
   "cell_type": "code",
   "execution_count": null,
   "metadata": {},
   "outputs": [],
   "source": [
    "X, labels, meta = paradigm.get_data(dataset=dataset, subjects=[1])\n",
    "y = np.array([0 if label == \"right_hand\" else 1 for label in labels])"
   ]
  },
  {
   "cell_type": "markdown",
   "metadata": {},
   "source": [
    "## Create Pipeline"
   ]
  },
  {
   "cell_type": "code",
   "execution_count": null,
   "metadata": {},
   "outputs": [],
   "source": [
    "X.shape"
   ]
  },
  {
   "cell_type": "markdown",
   "metadata": {},
   "source": [
    "### CSP"
   ]
  },
  {
   "cell_type": "code",
   "execution_count": null,
   "metadata": {},
   "outputs": [],
   "source": [
    "from common_spatial_pattern import csp\n",
    "\n",
    "n_components = 8\n",
    "\n",
    "filters = csp(X[np.where(y==0)[0]], X[np.where(y==1)[0]])\n",
    "filters = np.vstack([filters[:int(n_components/2)], filters[-int(n_components/2):]])"
   ]
  },
  {
   "cell_type": "markdown",
   "metadata": {},
   "source": [
    "### Train ML Model"
   ]
  },
  {
   "cell_type": "code",
   "execution_count": null,
   "metadata": {},
   "outputs": [],
   "source": [
    "from sklearn.model_selection import cross_val_score, train_test_split\n",
    "\n",
    "X_train, X_test, y_train, y_test = train_test_split(X, y, test_size=0.2)"
   ]
  },
  {
   "cell_type": "code",
   "execution_count": null,
   "metadata": {},
   "outputs": [],
   "source": [
    "clf = LDA()\n",
    "\n",
    "extracted_features_train = extract_features(X_train, filters).T\n",
    "clf.fit(extracted_features_train, y_train)\n",
    "# clf.score(extracted_features_train, y_train)\n",
    "\n",
    "extracted_features_test = extract_features(X_test, filters).T\n",
    "clf.score(extracted_features_test, y_test)"
   ]
  },
  {
   "cell_type": "code",
   "execution_count": null,
   "metadata": {},
   "outputs": [],
   "source": [
    "pipeline = {}\n",
    "pipeline[\"CSP+LDA\"] = make_pipeline(CSP(n_components=8), LDA())"
   ]
  },
  {
   "cell_type": "code",
   "execution_count": null,
   "metadata": {},
   "outputs": [],
   "source": [
    "pipeline[\"CSP+LDA\"].fit(X_train, y_train)\n",
    "pipeline[\"CSP+LDA\"].score(X_test, y_test)\n",
    "\n",
    "# scores = cross_val_score(pipeline[\"CSP+LDA\"], X, y, cv=5)\n",
    "# scores"
   ]
  },
  {
   "cell_type": "markdown",
   "metadata": {},
   "source": [
    "### Create Frequency Bands"
   ]
  },
  {
   "cell_type": "code",
   "execution_count": null,
   "metadata": {},
   "outputs": [],
   "source": [
    "# BNCI2015_001 first 3 seconds are reference, sfreq is 512 Hz\n",
    "X.shape"
   ]
  },
  {
   "cell_type": "code",
   "execution_count": null,
   "metadata": {},
   "outputs": [],
   "source": [
    "band_power = compute_freq_band_power(X, 512)"
   ]
  },
  {
   "cell_type": "markdown",
   "metadata": {},
   "source": [
    "### Compute Gamma Power"
   ]
  },
  {
   "cell_type": "code",
   "execution_count": null,
   "metadata": {},
   "outputs": [],
   "source": [
    "def calculate_avg_power(power):\n",
    "    avg_power = []\n",
    "\n",
    "    for trial in range(len(power)):\n",
    "        avg_power.append(power[trial][band])\n",
    "\n",
    "    return np.array(avg_power)"
   ]
  },
  {
   "cell_type": "code",
   "execution_count": null,
   "metadata": {},
   "outputs": [],
   "source": [
    "def plot_band_power(power, band, stim = 0):\n",
    "    n_channels = X.shape[1]\n",
    "    mean_power = power[np.where(y==stim)[0]].mean(axis=0)\n",
    "\n",
    "    n_cols = 4\n",
    "    n_rows = n_channels//n_cols\n",
    "\n",
    "\n",
    "    fig, axs = plt.subplots(n_rows, n_cols, figsize=(5*n_cols, 5*n_rows))\n",
    "\n",
    "    for i in range(n_rows):\n",
    "        for j in range(n_cols):\n",
    "            ch = n_cols*i+j\n",
    "            axs[i, j].plot(power[ch])\n",
    "\n",
    "            axs[i, j].set_title(f\"{band} band signal for Channel {ch}\")\n",
    "            axs[i, j].set_xlabel(\"Samples\")\n",
    "            axs[i, j].set_ylabel(\"Amplitude\")\n",
    "        \n",
    "            xtick_positions = np.linspace(0, 4, num=4)\n",
    "            # xtick_labels = np.round(np.linspace(0, t_win[0], num=4), 2)\n",
    "            axs[i, j].set_xticks(xtick_positions)\n",
    "            # axs[i, j].set_xticklabels(xtick_labels)\n",
    "\n",
    "    plt.tight_layout()\n",
    "    plt.show()"
   ]
  }
 ],
 "metadata": {
  "kernelspec": {
   "display_name": "zeromq",
   "language": "python",
   "name": "python3"
  },
  "language_info": {
   "codemirror_mode": {
    "name": "ipython",
    "version": 3
   },
   "file_extension": ".py",
   "mimetype": "text/x-python",
   "name": "python",
   "nbconvert_exporter": "python",
   "pygments_lexer": "ipython3",
   "version": "3.8.6"
  }
 },
 "nbformat": 4,
 "nbformat_minor": 2
}
