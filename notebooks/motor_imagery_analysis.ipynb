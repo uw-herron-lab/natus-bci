{
 "cells": [
  {
   "cell_type": "markdown",
   "metadata": {},
   "source": [
    "# Motor Imagery Classification via Natus"
   ]
  },
  {
   "cell_type": "code",
   "execution_count": 1,
   "metadata": {},
   "outputs": [],
   "source": [
    "import numpy as np\n",
    "import matplotlib.pyplot as plt\n",
    "from scipy import signal\n",
    "import pywt\n",
    "import pandas as pd\n",
    "import pickle\n",
    "from scipy.linalg import eigh"
   ]
  },
  {
   "cell_type": "code",
   "execution_count": 2,
   "metadata": {},
   "outputs": [],
   "source": [
    "timestamp = \"20240801_182907\"\n",
    "csv_file_path = f\"../clients/logs/motor_imagery/data_{timestamp}.csv\"\n",
    "\n",
    "df = pd.read_csv(csv_file_path)"
   ]
  },
  {
   "cell_type": "code",
   "execution_count": 3,
   "metadata": {},
   "outputs": [],
   "source": [
    "df = df.dropna(subset=[\"stim\"])"
   ]
  },
  {
   "cell_type": "code",
   "execution_count": 4,
   "metadata": {},
   "outputs": [],
   "source": [
    "stimuli = df[\"stim\"].to_numpy()\n",
    "\n",
    "eeg_data = np.array([df[key].to_numpy() for key in df.keys() if \"EEG\" in key])\n",
    "# eeg_data = df.iloc[:, 2:].to_numpy()"
   ]
  },
  {
   "cell_type": "code",
   "execution_count": 133,
   "metadata": {},
   "outputs": [
    {
     "data": {
      "text/plain": [
       "(186, 303750)"
      ]
     },
     "execution_count": 133,
     "metadata": {},
     "output_type": "execute_result"
    }
   ],
   "source": [
    "eeg_data.shape\n",
    "# eeg_data = eeg_data.T"
   ]
  },
  {
   "cell_type": "markdown",
   "metadata": {},
   "source": [
    "## Epoch the Data"
   ]
  },
  {
   "cell_type": "code",
   "execution_count": 5,
   "metadata": {},
   "outputs": [],
   "source": [
    "# Segments data into trials (fixation + left/right hand stimulus) and returns the indices of each trial\n",
    "\n",
    "trial_idxs = []\n",
    "trial = []\n",
    "new_trial = True\n",
    "\n",
    "for i, stim in enumerate(stimuli):\n",
    "    if stim is None:\n",
    "        continue\n",
    "\n",
    "    if new_trial:\n",
    "        if stim == \"fixation\":\n",
    "            trial.append(i)\n",
    "        else:\n",
    "            new_trial = False\n",
    "\n",
    "    if not new_trial:\n",
    "        if stim == \"Right Hand\" or stim == \"Left Hand\":\n",
    "            trial.append(i)\n",
    "        elif stim == \"fixation\":\n",
    "            new_trial = True\n",
    "            trial_idxs.append(trial)\n",
    "            trial = []\n",
    "            trial.append(i)\n",
    "        else:\n",
    "            raise ValueError(f\"Unknown stimuli: {stim}\")\n",
    "        \n",
    "trial_idxs.append(trial)"
   ]
  },
  {
   "cell_type": "code",
   "execution_count": 6,
   "metadata": {},
   "outputs": [],
   "source": [
    "# Segment EEG data into trials\n",
    "X = []\n",
    "y = []\n",
    "\n",
    "for idx in trial_idxs:\n",
    "    X.append(eeg_data[:, idx])\n",
    "    y.append(stimuli[idx[-1]])\n",
    "\n",
    "y = [0 if stim == \"Right Hand\" else 1 for stim in y]\n",
    "y = np.array(y)"
   ]
  },
  {
   "cell_type": "code",
   "execution_count": 7,
   "metadata": {},
   "outputs": [],
   "source": [
    "# Truncate data to 9500 samples\n",
    "\n",
    "for i in range(len(X)):\n",
    "    X[i] = X[i][:, :9500]\n",
    "\n",
    "X = np.array(X)"
   ]
  },
  {
   "cell_type": "markdown",
   "metadata": {},
   "source": [
    "## Create Pipeline"
   ]
  },
  {
   "cell_type": "markdown",
   "metadata": {},
   "source": [
    "### Common Spatial Pattern"
   ]
  },
  {
   "cell_type": "code",
   "execution_count": 19,
   "metadata": {},
   "outputs": [],
   "source": [
    "from common_spatial_pattern import csp\n",
    "\n",
    "n_components = 8\n",
    "\n",
    "filters = csp(X[np.where(y==0)[0]], X[np.where(y==1)[0]])\n",
    "filters = np.vstack([filters[:int(n_components/2)], filters[-int(n_components/2):]])\n",
    "\n",
    "np.save(file=\"models/csp_filters.npy\", arr=filters)"
   ]
  },
  {
   "cell_type": "markdown",
   "metadata": {},
   "source": [
    "### Training LDA Model"
   ]
  },
  {
   "cell_type": "code",
   "execution_count": 20,
   "metadata": {},
   "outputs": [],
   "source": [
    "from sklearn.model_selection import cross_val_score, train_test_split\n",
    "from sklearn.discriminant_analysis import LinearDiscriminantAnalysis as LDA\n",
    "\n",
    "X_train, X_test, y_train, y_test = train_test_split(X, y, test_size=0.2)\n",
    "clf = LDA()"
   ]
  },
  {
   "cell_type": "code",
   "execution_count": 21,
   "metadata": {},
   "outputs": [],
   "source": [
    "def extract_features(data, filters):\n",
    "    filtered_data = np.dot(filters, data)\n",
    "    return np.log(np.var(filtered_data, axis=2))"
   ]
  },
  {
   "cell_type": "code",
   "execution_count": 22,
   "metadata": {},
   "outputs": [
    {
     "data": {
      "text/html": [
       "<style>#sk-container-id-2 {color: black;}#sk-container-id-2 pre{padding: 0;}#sk-container-id-2 div.sk-toggleable {background-color: white;}#sk-container-id-2 label.sk-toggleable__label {cursor: pointer;display: block;width: 100%;margin-bottom: 0;padding: 0.3em;box-sizing: border-box;text-align: center;}#sk-container-id-2 label.sk-toggleable__label-arrow:before {content: \"▸\";float: left;margin-right: 0.25em;color: #696969;}#sk-container-id-2 label.sk-toggleable__label-arrow:hover:before {color: black;}#sk-container-id-2 div.sk-estimator:hover label.sk-toggleable__label-arrow:before {color: black;}#sk-container-id-2 div.sk-toggleable__content {max-height: 0;max-width: 0;overflow: hidden;text-align: left;background-color: #f0f8ff;}#sk-container-id-2 div.sk-toggleable__content pre {margin: 0.2em;color: black;border-radius: 0.25em;background-color: #f0f8ff;}#sk-container-id-2 input.sk-toggleable__control:checked~div.sk-toggleable__content {max-height: 200px;max-width: 100%;overflow: auto;}#sk-container-id-2 input.sk-toggleable__control:checked~label.sk-toggleable__label-arrow:before {content: \"▾\";}#sk-container-id-2 div.sk-estimator input.sk-toggleable__control:checked~label.sk-toggleable__label {background-color: #d4ebff;}#sk-container-id-2 div.sk-label input.sk-toggleable__control:checked~label.sk-toggleable__label {background-color: #d4ebff;}#sk-container-id-2 input.sk-hidden--visually {border: 0;clip: rect(1px 1px 1px 1px);clip: rect(1px, 1px, 1px, 1px);height: 1px;margin: -1px;overflow: hidden;padding: 0;position: absolute;width: 1px;}#sk-container-id-2 div.sk-estimator {font-family: monospace;background-color: #f0f8ff;border: 1px dotted black;border-radius: 0.25em;box-sizing: border-box;margin-bottom: 0.5em;}#sk-container-id-2 div.sk-estimator:hover {background-color: #d4ebff;}#sk-container-id-2 div.sk-parallel-item::after {content: \"\";width: 100%;border-bottom: 1px solid gray;flex-grow: 1;}#sk-container-id-2 div.sk-label:hover label.sk-toggleable__label {background-color: #d4ebff;}#sk-container-id-2 div.sk-serial::before {content: \"\";position: absolute;border-left: 1px solid gray;box-sizing: border-box;top: 0;bottom: 0;left: 50%;z-index: 0;}#sk-container-id-2 div.sk-serial {display: flex;flex-direction: column;align-items: center;background-color: white;padding-right: 0.2em;padding-left: 0.2em;position: relative;}#sk-container-id-2 div.sk-item {position: relative;z-index: 1;}#sk-container-id-2 div.sk-parallel {display: flex;align-items: stretch;justify-content: center;background-color: white;position: relative;}#sk-container-id-2 div.sk-item::before, #sk-container-id-2 div.sk-parallel-item::before {content: \"\";position: absolute;border-left: 1px solid gray;box-sizing: border-box;top: 0;bottom: 0;left: 50%;z-index: -1;}#sk-container-id-2 div.sk-parallel-item {display: flex;flex-direction: column;z-index: 1;position: relative;background-color: white;}#sk-container-id-2 div.sk-parallel-item:first-child::after {align-self: flex-end;width: 50%;}#sk-container-id-2 div.sk-parallel-item:last-child::after {align-self: flex-start;width: 50%;}#sk-container-id-2 div.sk-parallel-item:only-child::after {width: 0;}#sk-container-id-2 div.sk-dashed-wrapped {border: 1px dashed gray;margin: 0 0.4em 0.5em 0.4em;box-sizing: border-box;padding-bottom: 0.4em;background-color: white;}#sk-container-id-2 div.sk-label label {font-family: monospace;font-weight: bold;display: inline-block;line-height: 1.2em;}#sk-container-id-2 div.sk-label-container {text-align: center;}#sk-container-id-2 div.sk-container {/* jupyter's `normalize.less` sets `[hidden] { display: none; }` but bootstrap.min.css set `[hidden] { display: none !important; }` so we also need the `!important` here to be able to override the default hidden behavior on the sphinx rendered scikit-learn.org. See: https://github.com/scikit-learn/scikit-learn/issues/21755 */display: inline-block !important;position: relative;}#sk-container-id-2 div.sk-text-repr-fallback {display: none;}</style><div id=\"sk-container-id-2\" class=\"sk-top-container\"><div class=\"sk-text-repr-fallback\"><pre>LinearDiscriminantAnalysis()</pre><b>In a Jupyter environment, please rerun this cell to show the HTML representation or trust the notebook. <br />On GitHub, the HTML representation is unable to render, please try loading this page with nbviewer.org.</b></div><div class=\"sk-container\" hidden><div class=\"sk-item\"><div class=\"sk-estimator sk-toggleable\"><input class=\"sk-toggleable__control sk-hidden--visually\" id=\"sk-estimator-id-2\" type=\"checkbox\" checked><label for=\"sk-estimator-id-2\" class=\"sk-toggleable__label sk-toggleable__label-arrow\">LinearDiscriminantAnalysis</label><div class=\"sk-toggleable__content\"><pre>LinearDiscriminantAnalysis()</pre></div></div></div></div></div>"
      ],
      "text/plain": [
       "LinearDiscriminantAnalysis()"
      ]
     },
     "execution_count": 22,
     "metadata": {},
     "output_type": "execute_result"
    }
   ],
   "source": [
    "extracted_features_train = extract_features(X_train, filters)\n",
    "clf.fit(extracted_features_train.T, y_train)"
   ]
  },
  {
   "cell_type": "code",
   "execution_count": 23,
   "metadata": {},
   "outputs": [
    {
     "data": {
      "text/plain": [
       "0.3333333333333333"
      ]
     },
     "execution_count": 23,
     "metadata": {},
     "output_type": "execute_result"
    }
   ],
   "source": [
    "extracted_features_test = extract_features(X_test, filters)\n",
    "clf.score(extracted_features_test.T, y_test)"
   ]
  },
  {
   "cell_type": "code",
   "execution_count": null,
   "metadata": {},
   "outputs": [],
   "source": [
    "pipeline = {}\n",
    "pipeline[\"CSP+LDA\"] = make_pipeline(CSP(n_components=8), LDA())\n",
    "\n",
    "pipeline[\"CSP+LDA\"].fit(X_train, y_train)\n",
    "pipeline[\"CSP+LDA\"].score(X_test, y_test)\n",
    "\n",
    "# scores = cross_val_score(pipeline[\"CSP+LDA\"], X, y, cv=5)\n",
    "# scores"
   ]
  },
  {
   "cell_type": "markdown",
   "metadata": {},
   "source": [
    "### Save ML Model"
   ]
  },
  {
   "cell_type": "code",
   "execution_count": 25,
   "metadata": {},
   "outputs": [],
   "source": [
    "# Define the filename\n",
    "model_filename = 'models/MI_model.pkl'\n",
    "\n",
    "# Save the model\n",
    "with open(model_filename, 'wb') as file:\n",
    "    pickle.dump(clf, file)"
   ]
  },
  {
   "cell_type": "markdown",
   "metadata": {},
   "source": [
    "### Compute Frequency Bands"
   ]
  },
  {
   "cell_type": "code",
   "execution_count": 49,
   "metadata": {},
   "outputs": [],
   "source": [
    "def wavelet_transform(eeg_signal, fs):\n",
    "    # Define wavelet parameters\n",
    "    wavelet = 'cmor1.5-1.0'  # Complex Morlet wavelet\n",
    "    scales = np.arange(1, 128)\n",
    "    \n",
    "    # Perform Continuous Wavelet Transform (CWT)\n",
    "    coefficients, frequencies = pywt.cwt(eeg_signal, scales, wavelet, sampling_period=1/fs)\n",
    "    \n",
    "    return coefficients, frequencies"
   ]
  },
  {
   "cell_type": "code",
   "execution_count": 50,
   "metadata": {},
   "outputs": [],
   "source": [
    "def compute_freq_band_power(X, sfreq):\n",
    "\n",
    "    bands = {\n",
    "        'Delta': (0.5, 4),\n",
    "        'Theta': (4, 8),\n",
    "        'Alpha': (8, 13),\n",
    "        'Beta': (13, 30),\n",
    "        'Gamma': (30, 70),\n",
    "        'High Gamma': (70, 150)\n",
    "    }\n",
    "    \n",
    "    band_power = {freq_band: [] for freq_band in bands.keys()}\n",
    "\n",
    "    for band, (low_freq, high_freq) in bands.items():\n",
    "        for trial_data in X:\n",
    "            coefficients, freqs = wavelet_transform(trial_data, sfreq)\n",
    "\n",
    "            # Find the indices of frequencies within the band\n",
    "            idx_band = np.logical_and(freqs >= low_freq, freqs <= high_freq)\n",
    "            band_power[band].append(coefficients[idx_band, :, :].mean(axis=0))\n",
    "\n",
    "    return band_power"
   ]
  },
  {
   "cell_type": "markdown",
   "metadata": {},
   "source": [
    "# Motor Imagery Dataset"
   ]
  },
  {
   "cell_type": "code",
   "execution_count": 51,
   "metadata": {},
   "outputs": [],
   "source": [
    "import warnings\n",
    "\n",
    "from mne.decoding import CSP\n",
    "from sklearn.discriminant_analysis import LinearDiscriminantAnalysis as LDA\n",
    "from sklearn.pipeline import make_pipeline\n",
    "\n",
    "import moabb\n",
    "\n",
    "\n",
    "moabb.set_log_level(\"info\")\n",
    "warnings.filterwarnings(\"ignore\")"
   ]
  },
  {
   "cell_type": "markdown",
   "metadata": {},
   "source": [
    "## Instantiate Dataset"
   ]
  },
  {
   "cell_type": "code",
   "execution_count": 52,
   "metadata": {},
   "outputs": [],
   "source": [
    "from moabb.datasets import BNCI2014_001, BNCI2015_001\n",
    "\n",
    "dataset = BNCI2015_001()\n",
    "dataset.subject_list = [1, 2, 3]"
   ]
  },
  {
   "cell_type": "markdown",
   "metadata": {},
   "source": [
    "### Access EEG Recordings"
   ]
  },
  {
   "cell_type": "code",
   "execution_count": 53,
   "metadata": {},
   "outputs": [],
   "source": [
    "sessions = dataset.get_data(subjects=[1])"
   ]
  },
  {
   "cell_type": "code",
   "execution_count": 38,
   "metadata": {},
   "outputs": [
    {
     "data": {
      "text/plain": [
       "{'0': <RawArray | 14 x 1099541 (2147.5 s), ~117.5 MB, data loaded>}"
      ]
     },
     "execution_count": 38,
     "metadata": {},
     "output_type": "execute_result"
    }
   ],
   "source": [
    "subject = 1\n",
    "session_name = \"0train\"\n",
    "run_name = \"0\"\n",
    "\n",
    "sessions[subject]['0A']"
   ]
  },
  {
   "cell_type": "markdown",
   "metadata": {},
   "source": [
    "### Set Up Paradigm"
   ]
  },
  {
   "cell_type": "code",
   "execution_count": 54,
   "metadata": {},
   "outputs": [
    {
     "data": {
      "text/plain": [
       "'imagery'"
      ]
     },
     "execution_count": 54,
     "metadata": {},
     "output_type": "execute_result"
    }
   ],
   "source": [
    "dataset.paradigm"
   ]
  },
  {
   "cell_type": "code",
   "execution_count": 55,
   "metadata": {},
   "outputs": [
    {
     "name": "stderr",
     "output_type": "stream",
     "text": [
      "2024-08-01 17:41:42,528 WARNING MainThread moabb.paradigms.motor_imagery Choosing from all possible events\n"
     ]
    }
   ],
   "source": [
    "from moabb.paradigms import MotorImagery, LeftRightImagery \n",
    "\n",
    "paradigm = MotorImagery()"
   ]
  },
  {
   "cell_type": "markdown",
   "metadata": {},
   "source": [
    "### Get data"
   ]
  },
  {
   "cell_type": "code",
   "execution_count": 56,
   "metadata": {},
   "outputs": [],
   "source": [
    "X, labels, meta = paradigm.get_data(dataset=dataset, subjects=[1])\n",
    "y = np.array([0 if label == \"right_hand\" else 1 for label in labels])"
   ]
  },
  {
   "cell_type": "markdown",
   "metadata": {},
   "source": [
    "## Create Pipeline"
   ]
  },
  {
   "cell_type": "code",
   "execution_count": 42,
   "metadata": {},
   "outputs": [
    {
     "data": {
      "text/plain": [
       "(400, 13, 2561)"
      ]
     },
     "execution_count": 42,
     "metadata": {},
     "output_type": "execute_result"
    }
   ],
   "source": [
    "X.shape"
   ]
  },
  {
   "cell_type": "markdown",
   "metadata": {},
   "source": [
    "### CSP"
   ]
  },
  {
   "cell_type": "code",
   "execution_count": 43,
   "metadata": {},
   "outputs": [],
   "source": [
    "from common_spatial_pattern import csp\n",
    "\n",
    "n_components = 8\n",
    "\n",
    "filters = csp(X[np.where(y==0)[0]], X[np.where(y==1)[0]])\n",
    "filters = np.vstack([filters[:int(n_components/2)], filters[-int(n_components/2):]])"
   ]
  },
  {
   "cell_type": "markdown",
   "metadata": {},
   "source": [
    "### Train ML Model"
   ]
  },
  {
   "cell_type": "code",
   "execution_count": 223,
   "metadata": {},
   "outputs": [],
   "source": [
    "from sklearn.model_selection import cross_val_score, train_test_split\n",
    "\n",
    "X_train, X_test, y_train, y_test = train_test_split(X, y, test_size=0.2)"
   ]
  },
  {
   "cell_type": "code",
   "execution_count": 229,
   "metadata": {},
   "outputs": [
    {
     "data": {
      "text/plain": [
       "0.9"
      ]
     },
     "execution_count": 229,
     "metadata": {},
     "output_type": "execute_result"
    }
   ],
   "source": [
    "clf = LDA()\n",
    "\n",
    "extracted_features_train = extract_features(X_train, filters).T\n",
    "clf.fit(extracted_features_train, y_train)\n",
    "# clf.score(extracted_features_train, y_train)\n",
    "\n",
    "extracted_features_test = extract_features(X_test, filters).T\n",
    "clf.score(extracted_features_test, y_test)"
   ]
  },
  {
   "cell_type": "code",
   "execution_count": null,
   "metadata": {},
   "outputs": [],
   "source": [
    "pipeline = {}\n",
    "pipeline[\"CSP+LDA\"] = make_pipeline(CSP(n_components=8), LDA())"
   ]
  },
  {
   "cell_type": "code",
   "execution_count": null,
   "metadata": {},
   "outputs": [
    {
     "data": {
      "text/plain": [
       "1.0"
      ]
     },
     "metadata": {},
     "output_type": "display_data"
    }
   ],
   "source": [
    "pipeline[\"CSP+LDA\"].fit(X_train, y_train)\n",
    "pipeline[\"CSP+LDA\"].score(X_test, y_test)\n",
    "\n",
    "# scores = cross_val_score(pipeline[\"CSP+LDA\"], X, y, cv=5)\n",
    "# scores"
   ]
  },
  {
   "cell_type": "markdown",
   "metadata": {},
   "source": [
    "### Create Frequency Bands"
   ]
  },
  {
   "cell_type": "code",
   "execution_count": 80,
   "metadata": {},
   "outputs": [
    {
     "data": {
      "text/plain": [
       "(400, 13, 2561)"
      ]
     },
     "execution_count": 80,
     "metadata": {},
     "output_type": "execute_result"
    }
   ],
   "source": [
    "# BNCI2015_001 first 3 seconds are reference, sfreq is 512 Hz\n",
    "X.shape"
   ]
  },
  {
   "cell_type": "code",
   "execution_count": null,
   "metadata": {},
   "outputs": [],
   "source": [
    "band_power = compute_freq_band_power(X, 512)"
   ]
  },
  {
   "cell_type": "markdown",
   "metadata": {},
   "source": [
    "### Compute Gamma Power"
   ]
  },
  {
   "cell_type": "code",
   "execution_count": 48,
   "metadata": {},
   "outputs": [],
   "source": [
    "def calculate_avg_power(power):\n",
    "    avg_power = []\n",
    "\n",
    "    for trial in range(len(power)):\n",
    "        avg_power.append(power[trial][band])\n",
    "\n",
    "    return np.array(avg_power)"
   ]
  },
  {
   "cell_type": "code",
   "execution_count": null,
   "metadata": {},
   "outputs": [],
   "source": [
    "def plot_band_power(power, band, stim = 0):\n",
    "    n_channels = X.shape[1]\n",
    "    mean_power = power[np.where(y==stim)[0]].mean(axis=0)\n",
    "\n",
    "    n_cols = 4\n",
    "    n_rows = n_channels//n_cols\n",
    "\n",
    "\n",
    "    fig, axs = plt.subplots(n_rows, n_cols, figsize=(5*n_cols, 5*n_rows))\n",
    "\n",
    "    for i in range(n_rows):\n",
    "        for j in range(n_cols):\n",
    "            ch = n_cols*i+j\n",
    "            axs[i, j].plot(power[ch])\n",
    "\n",
    "            axs[i, j].set_title(f\"{band} band signal for Channel {ch}\")\n",
    "            axs[i, j].set_xlabel(\"Samples\")\n",
    "            axs[i, j].set_ylabel(\"Amplitude\")\n",
    "        \n",
    "            xtick_positions = np.linspace(0, 4, num=4)\n",
    "            # xtick_labels = np.round(np.linspace(0, t_win[0], num=4), 2)\n",
    "            axs[i, j].set_xticks(xtick_positions)\n",
    "            # axs[i, j].set_xticklabels(xtick_labels)\n",
    "\n",
    "    plt.tight_layout()\n",
    "    plt.show()"
   ]
  }
 ],
 "metadata": {
  "kernelspec": {
   "display_name": "zeromq",
   "language": "python",
   "name": "python3"
  },
  "language_info": {
   "codemirror_mode": {
    "name": "ipython",
    "version": 3
   },
   "file_extension": ".py",
   "mimetype": "text/x-python",
   "name": "python",
   "nbconvert_exporter": "python",
   "pygments_lexer": "ipython3",
   "version": "3.8.6"
  }
 },
 "nbformat": 4,
 "nbformat_minor": 2
}
